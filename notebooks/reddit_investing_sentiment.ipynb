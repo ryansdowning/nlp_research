{
 "cells": [
  {
   "cell_type": "code",
   "execution_count": 1,
   "metadata": {
    "ExecuteTime": {
     "end_time": "2020-08-14T22:31:15.758472Z",
     "start_time": "2020-08-14T22:31:08.463561Z"
    }
   },
   "outputs": [],
   "source": [
    "import os\n",
    "import datetime\n",
    "import pandas as pd\n",
    "import numpy as np\n",
    "os.chdir('../')\n",
    "from rsutils import data_utils as du, tagging_utils as tu\n",
    "os.chdir('C:/Users/ryanm_fa0xwnc/Documents/Github/sif_project')\n",
    "from siftools import sif_utils as su"
   ]
  },
  {
   "cell_type": "code",
   "execution_count": 2,
   "metadata": {
    "ExecuteTime": {
     "end_time": "2020-08-14T22:31:17.814841Z",
     "start_time": "2020-08-14T22:31:15.760473Z"
    }
   },
   "outputs": [],
   "source": [
    "# Get current tickers in US equities market\n",
    "metadata = su.get_metadata()\n",
    "metadata['lastpricedate'] = pd.to_datetime(metadata['lastpricedate'])\n",
    "metadata = metadata[metadata['lastpricedate'] >= datetime.datetime.now() - datetime.timedelta(30)]\n",
    "tickers = metadata['ticker'].unique().tolist()"
   ]
  },
  {
   "cell_type": "code",
   "execution_count": 3,
   "metadata": {
    "ExecuteTime": {
     "end_time": "2020-08-14T22:31:17.881910Z",
     "start_time": "2020-08-14T22:31:17.817844Z"
    }
   },
   "outputs": [],
   "source": [
    "comments = pd.read_csv('C:/Users/ryanm_fa0xwnc/PyCharmProjects/nlp_research/comments_stream.csv')  # Read comments data\n",
    "comments = comments[['id', 'body', 'score', 'created_utc']]  # Select relevant columns\n",
    "comments = comments[comments['body'].str.len() > 21]  # Filter comments less than 20 characters\n",
    "comments = tu.apply_keywords_tags(comments, tickers, 'body', True)  # Extract tickers from comments\n",
    "comments = comments[comments['body_keywords'].astype(bool)]  # Remove comments without any mention of ticker"
   ]
  },
  {
   "cell_type": "code",
   "execution_count": 4,
   "metadata": {
    "ExecuteTime": {
     "end_time": "2020-08-14T22:31:42.119527Z",
     "start_time": "2020-08-14T22:31:17.883901Z"
    }
   },
   "outputs": [],
   "source": [
    "# Get negative or positive sentiment label and convert from [0, 1] to [-1, 1]\n",
    "comments = tu.apply_sentiment_tags(\n",
    "    comments,\n",
    "    'distilbert-base-uncased-finetuned-sst-2-english',\n",
    "    'body'\n",
    ")\n",
    "comments['body_sentiment'] = (comments['body_sentiment'] * 2) - 1\n",
    "# Use comment score to weight the sentiment\n",
    "comments['sentiment_score'] = comments['body_sentiment'] * comments['score']"
   ]
  },
  {
   "cell_type": "code",
   "execution_count": 5,
   "metadata": {
    "ExecuteTime": {
     "end_time": "2020-08-14T22:31:42.126533Z",
     "start_time": "2020-08-14T22:31:42.121530Z"
    }
   },
   "outputs": [],
   "source": [
    "def multi_hot_encode(labels):\n",
    "    unique_labels = np.unique(np.concatenate(labels, axis=0))\n",
    "    def get_encoding(label, unique):\n",
    "        return pd.Series(unique).isin(label).astype(int)\n",
    "    encoded = pd.Series(labels).apply(lambda label: get_encoding(label, unique_labels))\n",
    "    encoded.columns = unique_labels\n",
    "    return encoded"
   ]
  },
  {
   "cell_type": "code",
   "execution_count": 6,
   "metadata": {
    "ExecuteTime": {
     "end_time": "2020-08-14T22:31:42.174575Z",
     "start_time": "2020-08-14T22:31:42.129536Z"
    }
   },
   "outputs": [
    {
     "data": {
      "text/plain": [
       "AGG     1\n",
       "BNDW    1\n",
       "GE      1\n",
       "SHV     1\n",
       "ITOT    1\n",
       "IVV     1\n",
       "VXUS    0\n",
       "QQQ     0\n",
       "NAV     0\n",
       "E      -1\n",
       "GOOD   -1\n",
       "GM     -1\n",
       "DD     -1\n",
       "DIS    -1\n",
       "HY     -1\n",
       "CEO    -1\n",
       "CEF    -1\n",
       "AR     -1\n",
       "AAPL   -1\n",
       "H      -1\n",
       "IMO    -1\n",
       "VT     -1\n",
       "NVDA   -1\n",
       "TSLA   -1\n",
       "TMF    -1\n",
       "TLT    -1\n",
       "INTC   -1\n",
       "SCHZ   -1\n",
       "LOVE   -1\n",
       "KO     -1\n",
       "TD     -2\n",
       "ITM    -2\n",
       "AMZN   -2\n",
       "TQQQ   -2\n",
       "AMD    -5\n",
       "IPO    -5\n",
       "A      -5\n",
       "G      -6\n",
       "dtype: int64"
      ]
     },
     "execution_count": 6,
     "metadata": {},
     "output_type": "execute_result"
    }
   ],
   "source": [
    "encoded = multi_hot_encode(comments['body_keywords'].values)\n",
    "ticker_scores = encoded.T * comments['sentiment_score'].values\n",
    "ticker_scores.sum(axis=1).sort_values(ascending=False)"
   ]
  }
 ],
 "metadata": {
  "kernelspec": {
   "display_name": "Python 3",
   "language": "python",
   "name": "python3"
  },
  "language_info": {
   "codemirror_mode": {
    "name": "ipython",
    "version": 3
   },
   "file_extension": ".py",
   "mimetype": "text/x-python",
   "name": "python",
   "nbconvert_exporter": "python",
   "pygments_lexer": "ipython3",
   "version": "3.8.5"
  },
  "toc": {
   "base_numbering": 1,
   "nav_menu": {},
   "number_sections": true,
   "sideBar": true,
   "skip_h1_title": false,
   "title_cell": "Table of Contents",
   "title_sidebar": "Contents",
   "toc_cell": false,
   "toc_position": {},
   "toc_section_display": true,
   "toc_window_display": false
  },
  "varInspector": {
   "cols": {
    "lenName": 16,
    "lenType": 16,
    "lenVar": 40
   },
   "kernels_config": {
    "python": {
     "delete_cmd_postfix": "",
     "delete_cmd_prefix": "del ",
     "library": "var_list.py",
     "varRefreshCmd": "print(var_dic_list())"
    },
    "r": {
     "delete_cmd_postfix": ") ",
     "delete_cmd_prefix": "rm(",
     "library": "var_list.r",
     "varRefreshCmd": "cat(var_dic_list()) "
    }
   },
   "types_to_exclude": [
    "module",
    "function",
    "builtin_function_or_method",
    "instance",
    "_Feature"
   ],
   "window_display": false
  }
 },
 "nbformat": 4,
 "nbformat_minor": 4
}
