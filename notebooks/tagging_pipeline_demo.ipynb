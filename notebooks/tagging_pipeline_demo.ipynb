{
 "cells": [
  {
   "cell_type": "markdown",
   "metadata": {},
   "source": [
    "# Tagging Pipeline - A DataFrames NLP API\n",
    "\n",
    "The `tagging_utils.tagging_utils` api pipeline is essentially a decorator framework built on top of `transformers.pipelines` from hugging face. The additional functionality added in `tagging_utils` allows the user to process a dataframe containing columns of text data."
   ]
  },
  {
   "cell_type": "code",
   "execution_count": 1,
   "metadata": {
    "ExecuteTime": {
     "end_time": "2020-09-01T05:40:19.959133Z",
     "start_time": "2020-09-01T05:40:15.615124Z"
    }
   },
   "outputs": [
    {
     "name": "stderr",
     "output_type": "stream",
     "text": [
      "/home/ryan/.cache/pypoetry/virtualenvs/nlp-research-1iGXy4V8-py3.8/lib/python3.8/site-packages/torch/cuda/__init__.py:52: UserWarning: CUDA initialization: Found no NVIDIA driver on your system. Please check that you have an NVIDIA GPU and installed a driver from http://www.nvidia.com/Download/index.aspx (Triggered internally at  /pytorch/c10/cuda/CUDAFunctions.cpp:100.)\n",
      "  return torch._C._cuda_getDeviceCount() > 0\n",
      "/home/ryan/.cache/pypoetry/virtualenvs/nlp-research-1iGXy4V8-py3.8/lib/python3.8/site-packages/tqdm/std.py:699: FutureWarning: The Panel class is removed from pandas. Accessing it from the top-level namespace will also be removed in the next version\n",
      "  from pandas import Panel\n"
     ]
    }
   ],
   "source": [
    "import sys\n",
    "sys.path.append('..')\n",
    "from nlp_utils import tagging_utils as tu\n",
    "import pandas as pd"
   ]
  },
  {
   "cell_type": "markdown",
   "metadata": {},
   "source": [
    "## Sample Data 1 - Reddit Submissions"
   ]
  },
  {
   "cell_type": "code",
   "execution_count": null,
   "metadata": {
    "ExecuteTime": {
     "end_time": "2020-09-01T05:40:20.052121Z",
     "start_time": "2020-09-01T05:40:19.999124Z"
    }
   },
   "outputs": [],
   "source": [
    "data = pd.read_csv('../scraped_data/wsb_comments.csv')\n",
    "data.head()"
   ]
  },
  {
   "cell_type": "code",
   "execution_count": null,
   "metadata": {
    "ExecuteTime": {
     "end_time": "2020-09-01T05:40:20.230118Z",
     "start_time": "2020-09-01T05:40:20.217124Z"
    }
   },
   "outputs": [],
   "source": [
    "data.isna().sum()"
   ]
  },
  {
   "cell_type": "code",
   "execution_count": null,
   "metadata": {
    "ExecuteTime": {
     "end_time": "2020-09-01T05:40:20.888121Z",
     "start_time": "2020-09-01T05:40:20.385121Z"
    }
   },
   "outputs": [],
   "source": [
    "data['body'].str.len().plot.hist()"
   ]
  },
  {
   "cell_type": "markdown",
   "metadata": {},
   "source": [
    "Some of the very large texts had to be clipped due to limited number of tokens. In future I hope to add an ability to dynamically chunk the text to produce chunked results."
   ]
  },
  {
   "cell_type": "code",
   "execution_count": null,
   "metadata": {},
   "outputs": [],
   "source": [
    "long = data[data['body'].str.len() > 1500]"
   ]
  },
  {
   "cell_type": "code",
   "execution_count": null,
   "metadata": {
    "ExecuteTime": {
     "end_time": "2020-09-01T05:40:21.057122Z",
     "start_time": "2020-09-01T05:40:21.053122Z"
    }
   },
   "outputs": [],
   "source": [
    "data['body'] = data['body'].str.slice(0, 500)"
   ]
  },
  {
   "cell_type": "markdown",
   "metadata": {},
   "source": [
    "## Sentiment Analysis Pipeline"
   ]
  },
  {
   "cell_type": "code",
   "execution_count": null,
   "metadata": {},
   "outputs": [],
   "source": [
    "summarization = tu.tagging_pipline('summarization')\n",
    "summ_df = summarization(long.sample(100), 'body')\n",
    "summ_df['body_summarization'].head()"
   ]
  },
  {
   "cell_type": "code",
   "execution_count": null,
   "metadata": {
    "ExecuteTime": {
     "end_time": "2020-09-01T05:40:23.246737Z",
     "start_time": "2020-09-01T05:40:21.211120Z"
    }
   },
   "outputs": [],
   "source": [
    "sentiment_pipe = tu.tagging_pipline('sentiment-analysis')  # ..., model, config, tokenizer, framework, **kwargs)\n",
    "sentiment_pipe.model"
   ]
  },
  {
   "cell_type": "code",
   "execution_count": null,
   "metadata": {
    "ExecuteTime": {
     "end_time": "2020-09-01T05:40:26.954736Z",
     "start_time": "2020-09-01T05:40:23.439739Z"
    }
   },
   "outputs": [],
   "source": [
    "sentiment_tags = sentiment_pipe(long.sample(100), 'body')  # ..., tag_suffix: Optional[str], file: Optional[str], *args, **kwargs)\n",
    "sentiment_tags['body_sentiment']"
   ]
  },
  {
   "cell_type": "code",
   "execution_count": null,
   "metadata": {
    "ExecuteTime": {
     "end_time": "2020-09-01T05:40:53.592984Z",
     "start_time": "2020-09-01T05:40:27.295738Z"
    }
   },
   "outputs": [],
   "source": [
    "many_sentiment_tags = sentiment_pipe(data, ['title', 'selftext'])\n",
    "many_sentiment_tags[['title', 'selftext', 'title_sentiment', 'selftext_sentiment']]"
   ]
  },
  {
   "cell_type": "code",
   "execution_count": null,
   "metadata": {
    "ExecuteTime": {
     "end_time": "2020-09-01T05:42:03.106264Z",
     "start_time": "2020-09-01T05:41:54.455414Z"
    }
   },
   "outputs": [],
   "source": [
    "ner_pipeline = tu.tagging_pipline('ner')\n",
    "ner_pipeline.model"
   ]
  },
  {
   "cell_type": "markdown",
   "metadata": {
    "ExecuteTime": {
     "end_time": "2020-09-02T19:56:54.730677Z",
     "start_time": "2020-09-02T19:56:54.727678Z"
    }
   },
   "source": [
    "## Sample Data 2 - Reddit Comments"
   ]
  },
  {
   "cell_type": "code",
   "execution_count": null,
   "metadata": {
    "ExecuteTime": {
     "end_time": "2020-09-01T05:42:04.844700Z",
     "start_time": "2020-09-01T05:42:04.835692Z"
    }
   },
   "outputs": [],
   "source": [
    "data = pd.read_csv('../comments_stream.csv')"
   ]
  },
  {
   "cell_type": "code",
   "execution_count": null,
   "metadata": {
    "ExecuteTime": {
     "end_time": "2020-09-01T05:43:16.547971Z",
     "start_time": "2020-09-01T05:42:06.833926Z"
    }
   },
   "outputs": [],
   "source": [
    "ner_tags = ner_pipeline(data, 'body')\n",
    "ner_tags[['body', 'body_nertag']]"
   ]
  },
  {
   "cell_type": "code",
   "execution_count": null,
   "metadata": {
    "ExecuteTime": {
     "end_time": "2020-09-01T05:43:18.642974Z",
     "start_time": "2020-09-01T05:43:17.104972Z"
    }
   },
   "outputs": [],
   "source": [
    "featextr_pipe = tu.tagging_pipline('feature-extraction')\n",
    "featextr_pipe.model"
   ]
  },
  {
   "cell_type": "code",
   "execution_count": null,
   "metadata": {
    "ExecuteTime": {
     "end_time": "2020-09-01T05:44:21.589960Z",
     "start_time": "2020-09-01T05:44:10.117726Z"
    }
   },
   "outputs": [],
   "source": [
    "extraction_tags = featextr_pipe(data, 'body')\n",
    "extraction_tags[['body', 'body_extracted']]"
   ]
  },
  {
   "cell_type": "markdown",
   "metadata": {},
   "source": [
    "# Not Shown\n",
    "\n",
    "* question-answering\n",
    "* fill-mask\n",
    "* summarization\n",
    "* translation_en_to_fr\n",
    "* translation_en_to_de\n",
    "* translation_en_to_ro\n",
    "* text-generation"
   ]
  }
 ],
 "metadata": {
  "kernelspec": {
   "display_name": "Python 3",
   "language": "python",
   "name": "python3"
  },
  "language_info": {
   "codemirror_mode": {
    "name": "ipython",
    "version": 3
   },
   "file_extension": ".py",
   "mimetype": "text/x-python",
   "name": "python",
   "nbconvert_exporter": "python",
   "pygments_lexer": "ipython3",
   "version": "3.8.5"
  },
  "toc": {
   "base_numbering": 1,
   "nav_menu": {},
   "number_sections": true,
   "sideBar": true,
   "skip_h1_title": false,
   "title_cell": "Table of Contents",
   "title_sidebar": "Contents",
   "toc_cell": false,
   "toc_position": {},
   "toc_section_display": true,
   "toc_window_display": false
  },
  "varInspector": {
   "cols": {
    "lenName": 16,
    "lenType": 16,
    "lenVar": 40
   },
   "kernels_config": {
    "python": {
     "delete_cmd_postfix": "",
     "delete_cmd_prefix": "del ",
     "library": "var_list.py",
     "varRefreshCmd": "print(var_dic_list())"
    },
    "r": {
     "delete_cmd_postfix": ") ",
     "delete_cmd_prefix": "rm(",
     "library": "var_list.r",
     "varRefreshCmd": "cat(var_dic_list()) "
    }
   },
   "types_to_exclude": [
    "module",
    "function",
    "builtin_function_or_method",
    "instance",
    "_Feature"
   ],
   "window_display": false
  }
 },
 "nbformat": 4,
 "nbformat_minor": 4
}
