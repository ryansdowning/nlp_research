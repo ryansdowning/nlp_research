{
 "cells": [
  {
   "cell_type": "markdown",
   "id": "framed-quantity",
   "metadata": {
    "ExecuteTime": {
     "end_time": "2021-02-06T05:47:32.176117Z",
     "start_time": "2021-02-06T05:47:32.169112Z"
    }
   },
   "source": [
    "<h1><center>Lecture 1 Self-assignment</center></h1>\n",
    "\n",
    "Ryan Downing\n",
    "\n",
    "BMGT444\n",
    "\n",
    "Professor Crosby\n",
    "\n",
    "February 6, 2021\n",
    "\n",
    "**Lecture 2 Q.1**\n",
    "\n",
    "A company has a \\\\$20 million portfolio with a beta of 1.2. It would like to use futures contracts on a stock\n",
    "index to hedge its risk. The index futures is currently standing at 1080, and each contract is for delivery of \\\\$250 \n",
    "times the index. What is the hedge that minimizes risk? What should the company do if it wants to reduce the beta of \n",
    "the portfolio to 0.6?\n",
    "\n",
    "$$\\beta\\frac{V_a}{V_f} = 1.2 * \\frac{20,000,000}{(1080*250)} = 74.0740741 \\approx 74$$\n",
    "\n",
    "The hedge that minimizes risk for the portfolio with $1.2$ beta is $74$ index futures contracts. If the portfolio has a beta of $0.6$, they will need half as many contracts to hedge the risk, or $37$ index futures contracts.\n",
    "\n",
    "**Lecture 2 Q.2**\n",
    "\n",
    "On July 1, an investor holds 50,000 shares of a certain stock. The market price is \\\\$30 per share. The investor is interested in hedging against movements in the market over the next month and decides to use an index futures contract. The index is currently 1,500 and one contract is for delivery of \\\\$50 times the index. The beta of the stock is 1.3. What strategy should the investor follow? Under what circumstances will it be profitable?\n",
    "\n",
    "$$\\beta\\frac{V_a}{V_f} = 1.3 * \\frac{50,000*30}{(1500*50)} = 20$$\n",
    "\n",
    "**Lecture 2 Q.3**\n",
    "\n",
    "What rate of interest with continuous compounding is equivalent to 8% per annum with monthly compounding?\n",
    "\n",
    "$$R_c = m\\ln\\big(1 + \\frac{R_m}{m}\\big) = 12\\times\\ln\\big(1 + \\frac{8\\%}{12}\\big) \\approx 0.0797$$\n",
    "\n",
    "**Lecture 2 Q.4**\n",
    "\n",
    "Suppose that 6-month, 12-month, 18-month, 24-month, and 30-month zero rates are, respectively,  4%, 4.2%, 4.4%, 4.6%, and 4.8% per annum with continuous compounding. Estimate the cash price of a bond with a face value of 100 that will mature in 30 months and pay a coupon of 4% per annum semiannually.\n",
    "\n",
    "The bond will pay \\\\$2 at 6 months, 12 months, 18 months, and 24 months, with a final payment of \\\\$102 in 30 months. Therefore, the cash price of the bond can be priced by: $$2e^{-0.04 \\times 0.5} + 2e^{-0.042 \\times 1.0} + 2e^{-0.044 \\times 1.5} + 2e^{-0.046 \\times 2.0} + 102e^{-0.048 \\times 2.5} = 98.04$$\n",
    "\n",
    "The cash price of the bond would be \\\\$98.04\n",
    "\n",
    "**Lecture 2 Q.5**\n",
    "\n",
    "The cash prices of six-month and one-year Treasury bills are 94.0 and 89.0. A 1.5-year Treasury bond that will pay coupons of \\\\$4 every six months currently sells for \\\\$94.84. A two-year Treasury bond that will pay coupons of \\\\$5 every six months currently sells for \\\\$97.12. Calculate the six-month, one-year, 1.5-year, and two-year Treasury zero rates.\n",
    "\n",
    "The 6 month treasury rate is given by $\\frac{6}{94} = 6.383\\%$ semianually, or $2\\ln(1 + 0.06383) = 12.38\\%$ annually with continuous compounding. Similarly, the rate of the 12 month bill can be calculated by the return in the next 12 months, \\\\$11, giving us $\\ln(1 + \\frac{11}{89}) = 11.65\\%$ with continuous compounding.\n",
    "\n",
    "The rate for the 18 month bond is given by: $4e^{-0.1238 \\times 0.5} + 4e^{-0.1165 \\times 1.0} + 104e^{-1.5R} = 94.84 \\rightarrow R = 11.502\\%$\n",
    "\n",
    "The rate for the 24 month bond is given by: $5e^{-0.1238 \\times 0.5} + 5e^{-0.1165 \\times 1.0} + 5e^{-0.115 \\times 1.5} + 105e^{-2R} = 97.12 \\rightarrow R = 11.30\\%$"
   ]
  }
 ],
 "metadata": {
  "kernelspec": {
   "display_name": "Python 3",
   "language": "python",
   "name": "python3"
  },
  "language_info": {
   "codemirror_mode": {
    "name": "ipython",
    "version": 3
   },
   "file_extension": ".py",
   "mimetype": "text/x-python",
   "name": "python",
   "nbconvert_exporter": "python",
   "pygments_lexer": "ipython3",
   "version": "3.8.3"
  },
  "toc": {
   "base_numbering": 1,
   "nav_menu": {},
   "number_sections": true,
   "sideBar": true,
   "skip_h1_title": false,
   "title_cell": "Table of Contents",
   "title_sidebar": "Contents",
   "toc_cell": false,
   "toc_position": {},
   "toc_section_display": true,
   "toc_window_display": false
  },
  "varInspector": {
   "cols": {
    "lenName": 16,
    "lenType": 16,
    "lenVar": 40
   },
   "kernels_config": {
    "python": {
     "delete_cmd_postfix": "",
     "delete_cmd_prefix": "del ",
     "library": "var_list.py",
     "varRefreshCmd": "print(var_dic_list())"
    },
    "r": {
     "delete_cmd_postfix": ") ",
     "delete_cmd_prefix": "rm(",
     "library": "var_list.r",
     "varRefreshCmd": "cat(var_dic_list()) "
    }
   },
   "types_to_exclude": [
    "module",
    "function",
    "builtin_function_or_method",
    "instance",
    "_Feature"
   ],
   "window_display": false
  }
 },
 "nbformat": 4,
 "nbformat_minor": 5
}
