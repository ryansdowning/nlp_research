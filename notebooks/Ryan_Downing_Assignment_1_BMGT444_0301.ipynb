{
 "cells": [
  {
   "cell_type": "markdown",
   "id": "fatal-sympathy",
   "metadata": {},
   "source": [
    "<h1><center>Lecture 1 Self-assignment</center></h1>\n",
    "\n",
    "Ryan Downing\n",
    "\n",
    "BMGT444\n",
    "\n",
    "Professor Crosby\n",
    "\n",
    "January 31, 2021\n",
    "\n",
    "**Lecture Q 1.1.**\n",
    "\n",
    "An investor enters into a short forward contract to sell 100,000 British pounds for U.S.  dollars at an exchange rate of 1.5000 U.S. dollars per pound. How much does the investor gain or lose if the exchange rate at the end of the contract is (a) 1.4900 and (b) 1.5200?\n",
    "\n",
    "$100,000 * 1.5 = 150,000$\n",
    "\n",
    "(a) $150,000 - (100,000 * 1.49) = 1000$ The investor would gain \\\\$1,000 if the exchange rate fell to 1.4900\n",
    "\n",
    "(b) $150,000 - (100,000 * 1.52) = -2000$ The investor would lost \\\\$2,000 if the exchange rate rose to 1.5200\n",
    "\n",
    "**Lecture Q 1.2**\n",
    "\n",
    "A trader enters into a short cotton futures contract when the futures price is 50 cents per pound. The contract is for the delivery of 50,000 pounds. How much does the trader gain or lose if the cotton price at the end of the contract is (a) 48.20 cents per pound; (b) 51.30 cents per pound?\n",
    "\n",
    "$0.50 * 50,000 = 25,000$\n",
    "\n",
    "(a) $25,000 - (0.4820 * 50,000) = 900$ The investor would gain \\\\$900 if the cotton price fell to 48.20 cents per pound\n",
    "\n",
    "(b) $25,000 - (0.5130 * 50,000) = -650$ The investor would lose \\\\$650 if the cotton price rose to 51.30 cents per pound\n",
    "\n",
    "**Lecture Q 1.3**\n",
    "\n",
    "Suppose that in September 2018 a company takes a long position in a contract on May 2019 crude oil futures. It closes out its position in March 2019. The futures price (per barrel) is \\\\$48.30 when it enters into the contract, \\\\$50.50 when it closes out its position, and \\\\$49.10 at the end of December 2018. One contract is for the delivery of 1,000 barrels. What is the company’s total profit? When is it realized?\n",
    "\n",
    "$48.30 * 1000 = 48,300 \\rightarrow (50.50 * 1000) - 48,300 = 2,200$\n",
    "\n",
    "The company's total profit of \\$2,200 is realized in March 2019 when they close their position.\n",
    "\n",
    "**Lecture Q 1.4**\n",
    "\n",
    "Trader A enters into futures contracts to buy 1 million euros for 1.1 million dollars in three months. Trader B enters in a forward contract to do the same thing. The exchange rate (dollars per euro) declines sharply during the first two months and then increases for the third month to close at 1.1300. Ignoring daily settlement, what is the total profit of each trader? When the impact of daily settlement is taken into account, which trader does better?\n",
    "\n",
    "$(1.13 * 1,000,000) - 1,100,000 = 130,000$\n",
    "\n",
    "Without considering the impact of daily settlement, each trader would have profited \\\\$130,000 from this trade. Since futures are marked-to-market daily, the trader with the futures position would need to cover their losses during the first two months, resulting is lower profits than the trader with the forwards position."
   ]
  }
 ],
 "metadata": {
  "kernelspec": {
   "display_name": "Python 3",
   "language": "python",
   "name": "python3"
  },
  "language_info": {
   "codemirror_mode": {
    "name": "ipython",
    "version": 3
   },
   "file_extension": ".py",
   "mimetype": "text/x-python",
   "name": "python",
   "nbconvert_exporter": "python",
   "pygments_lexer": "ipython3",
   "version": "3.8.3"
  },
  "toc": {
   "base_numbering": 1,
   "nav_menu": {},
   "number_sections": true,
   "sideBar": true,
   "skip_h1_title": false,
   "title_cell": "Table of Contents",
   "title_sidebar": "Contents",
   "toc_cell": false,
   "toc_position": {},
   "toc_section_display": true,
   "toc_window_display": false
  },
  "varInspector": {
   "cols": {
    "lenName": 16,
    "lenType": 16,
    "lenVar": 40
   },
   "kernels_config": {
    "python": {
     "delete_cmd_postfix": "",
     "delete_cmd_prefix": "del ",
     "library": "var_list.py",
     "varRefreshCmd": "print(var_dic_list())"
    },
    "r": {
     "delete_cmd_postfix": ") ",
     "delete_cmd_prefix": "rm(",
     "library": "var_list.r",
     "varRefreshCmd": "cat(var_dic_list()) "
    }
   },
   "types_to_exclude": [
    "module",
    "function",
    "builtin_function_or_method",
    "instance",
    "_Feature"
   ],
   "window_display": false
  }
 },
 "nbformat": 4,
 "nbformat_minor": 5
}
